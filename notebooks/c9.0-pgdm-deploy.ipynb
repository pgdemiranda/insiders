{
 "cells": [
  {
   "attachments": {},
   "cell_type": "markdown",
   "metadata": {},
   "source": [
    "# PA005: High Value Customer Identification(Insiders)"
   ]
  },
  {
   "attachments": {},
   "cell_type": "markdown",
   "metadata": {},
   "source": [
    "# <font color = 'red'> 0.0. Imports </font>"
   ]
  },
  {
   "cell_type": "code",
   "execution_count": 2,
   "metadata": {},
   "outputs": [],
   "source": [
    "import os\n",
    "import joblib\n",
    "import re\n",
    "import pickle\n",
    "import s3fs\n",
    "import sqlite3\n",
    "\n",
    "import pandas as pd\n",
    "import numpy as np\n",
    "import seaborn as sns\n",
    "import umap.umap_ as umap\n",
    "import scipy.stats as st\n",
    "\n",
    "from datetime import datetime\n",
    "from matplotlib import pyplot as plt\n",
    "from plotly import express as px\n",
    "from sqlalchemy import create_engine\n",
    "\n",
    "from sklearn import cluster as c\n",
    "from sklearn import metrics as me\n",
    "from sklearn import ensemble as en\n",
    "from sklearn import preprocessing as pp\n",
    "from sklearn import decomposition as dd\n",
    "from sklearn import manifold as mn\n",
    "from sklearn import mixture as mx"
   ]
  },
  {
   "cell_type": "code",
   "execution_count": 42,
   "metadata": {},
   "outputs": [],
   "source": [
    "AWS_ACCESS_KEY_ID = os.environ.get('AWS_ACCESS_KEY_ID_INSIDERS')\n",
    "AWS_SECRET_ACCESS_KEY = os.environ.get('AWS_SECRET_ACCESS_KEY_INSIDERS')"
   ]
  },
  {
   "attachments": {},
   "cell_type": "markdown",
   "metadata": {},
   "source": [
    "## Load dataset"
   ]
  },
  {
   "cell_type": "code",
   "execution_count": 4,
   "metadata": {},
   "outputs": [],
   "source": [
    "path_s3 = 's3://insiders-pgdm/data.csv'\n",
    "path_local = '../data/raw/data.csv'\n",
    "\n",
    "# load data\n",
    "df_raw = pd.read_csv(path_local, encoding = 'ISO-8859-1')"
   ]
  },
  {
   "attachments": {},
   "cell_type": "markdown",
   "metadata": {},
   "source": [
    "# <font color = 'red'> 1.0. Data Description </font>"
   ]
  },
  {
   "cell_type": "code",
   "execution_count": 5,
   "metadata": {},
   "outputs": [],
   "source": [
    "df1 = df_raw.copy()"
   ]
  },
  {
   "cell_type": "code",
   "execution_count": 6,
   "metadata": {},
   "outputs": [
    {
     "data": {
      "text/html": [
       "<div>\n",
       "<style scoped>\n",
       "    .dataframe tbody tr th:only-of-type {\n",
       "        vertical-align: middle;\n",
       "    }\n",
       "\n",
       "    .dataframe tbody tr th {\n",
       "        vertical-align: top;\n",
       "    }\n",
       "\n",
       "    .dataframe thead th {\n",
       "        text-align: right;\n",
       "    }\n",
       "</style>\n",
       "<table border=\"1\" class=\"dataframe\">\n",
       "  <thead>\n",
       "    <tr style=\"text-align: right;\">\n",
       "      <th></th>\n",
       "      <th>InvoiceNo</th>\n",
       "      <th>StockCode</th>\n",
       "      <th>Description</th>\n",
       "      <th>Quantity</th>\n",
       "      <th>InvoiceDate</th>\n",
       "      <th>UnitPrice</th>\n",
       "      <th>CustomerID</th>\n",
       "      <th>Country</th>\n",
       "    </tr>\n",
       "  </thead>\n",
       "  <tbody>\n",
       "    <tr>\n",
       "      <th>0</th>\n",
       "      <td>536365</td>\n",
       "      <td>85123A</td>\n",
       "      <td>WHITE HANGING HEART T-LIGHT HOLDER</td>\n",
       "      <td>6</td>\n",
       "      <td>12/1/2010 8:26</td>\n",
       "      <td>2.55</td>\n",
       "      <td>17850.0</td>\n",
       "      <td>United Kingdom</td>\n",
       "    </tr>\n",
       "    <tr>\n",
       "      <th>1</th>\n",
       "      <td>536365</td>\n",
       "      <td>71053</td>\n",
       "      <td>WHITE METAL LANTERN</td>\n",
       "      <td>6</td>\n",
       "      <td>12/1/2010 8:26</td>\n",
       "      <td>3.39</td>\n",
       "      <td>17850.0</td>\n",
       "      <td>United Kingdom</td>\n",
       "    </tr>\n",
       "    <tr>\n",
       "      <th>2</th>\n",
       "      <td>536365</td>\n",
       "      <td>84406B</td>\n",
       "      <td>CREAM CUPID HEARTS COAT HANGER</td>\n",
       "      <td>8</td>\n",
       "      <td>12/1/2010 8:26</td>\n",
       "      <td>2.75</td>\n",
       "      <td>17850.0</td>\n",
       "      <td>United Kingdom</td>\n",
       "    </tr>\n",
       "    <tr>\n",
       "      <th>3</th>\n",
       "      <td>536365</td>\n",
       "      <td>84029G</td>\n",
       "      <td>KNITTED UNION FLAG HOT WATER BOTTLE</td>\n",
       "      <td>6</td>\n",
       "      <td>12/1/2010 8:26</td>\n",
       "      <td>3.39</td>\n",
       "      <td>17850.0</td>\n",
       "      <td>United Kingdom</td>\n",
       "    </tr>\n",
       "    <tr>\n",
       "      <th>4</th>\n",
       "      <td>536365</td>\n",
       "      <td>84029E</td>\n",
       "      <td>RED WOOLLY HOTTIE WHITE HEART.</td>\n",
       "      <td>6</td>\n",
       "      <td>12/1/2010 8:26</td>\n",
       "      <td>3.39</td>\n",
       "      <td>17850.0</td>\n",
       "      <td>United Kingdom</td>\n",
       "    </tr>\n",
       "  </tbody>\n",
       "</table>\n",
       "</div>"
      ],
      "text/plain": [
       "  InvoiceNo StockCode                          Description  Quantity  \\\n",
       "0    536365    85123A   WHITE HANGING HEART T-LIGHT HOLDER         6   \n",
       "1    536365     71053                  WHITE METAL LANTERN         6   \n",
       "2    536365    84406B       CREAM CUPID HEARTS COAT HANGER         8   \n",
       "3    536365    84029G  KNITTED UNION FLAG HOT WATER BOTTLE         6   \n",
       "4    536365    84029E       RED WOOLLY HOTTIE WHITE HEART.         6   \n",
       "\n",
       "      InvoiceDate  UnitPrice  CustomerID         Country  \n",
       "0  12/1/2010 8:26       2.55     17850.0  United Kingdom  \n",
       "1  12/1/2010 8:26       3.39     17850.0  United Kingdom  \n",
       "2  12/1/2010 8:26       2.75     17850.0  United Kingdom  \n",
       "3  12/1/2010 8:26       3.39     17850.0  United Kingdom  \n",
       "4  12/1/2010 8:26       3.39     17850.0  United Kingdom  "
      ]
     },
     "execution_count": 6,
     "metadata": {},
     "output_type": "execute_result"
    }
   ],
   "source": [
    "df1.head()"
   ]
  },
  {
   "attachments": {},
   "cell_type": "markdown",
   "metadata": {},
   "source": [
    "## 1.1. Rename columns"
   ]
  },
  {
   "cell_type": "code",
   "execution_count": 7,
   "metadata": {},
   "outputs": [],
   "source": [
    "cols_new = ['invoice_no', 'stock_code', 'description', \n",
    "            'quantity', 'invoice_date', 'unit_price', \n",
    "            'customer_id', 'country']\n",
    "df1.columns = cols_new"
   ]
  },
  {
   "attachments": {},
   "cell_type": "markdown",
   "metadata": {},
   "source": [
    "## 1.2. Data dimensions"
   ]
  },
  {
   "cell_type": "code",
   "execution_count": 8,
   "metadata": {},
   "outputs": [
    {
     "name": "stdout",
     "output_type": "stream",
     "text": [
      "number of rows: 541909\n",
      "number of columns: 8\n"
     ]
    }
   ],
   "source": [
    "print('number of rows: {}'.format(df1.shape[0]))\n",
    "print('number of columns: {}'.format(df1.shape[1]))"
   ]
  },
  {
   "attachments": {},
   "cell_type": "markdown",
   "metadata": {},
   "source": [
    "## 1.3. Data types"
   ]
  },
  {
   "cell_type": "code",
   "execution_count": 9,
   "metadata": {},
   "outputs": [
    {
     "data": {
      "text/plain": [
       "invoice_no       object\n",
       "stock_code       object\n",
       "description      object\n",
       "quantity          int64\n",
       "invoice_date     object\n",
       "unit_price      float64\n",
       "customer_id     float64\n",
       "country          object\n",
       "dtype: object"
      ]
     },
     "execution_count": 9,
     "metadata": {},
     "output_type": "execute_result"
    }
   ],
   "source": [
    "df1.dtypes"
   ]
  },
  {
   "attachments": {},
   "cell_type": "markdown",
   "metadata": {},
   "source": [
    "## 1.4. Check NA"
   ]
  },
  {
   "cell_type": "code",
   "execution_count": 10,
   "metadata": {},
   "outputs": [
    {
     "data": {
      "text/plain": [
       "invoice_no           0\n",
       "stock_code           0\n",
       "description       1454\n",
       "quantity             0\n",
       "invoice_date         0\n",
       "unit_price           0\n",
       "customer_id     135080\n",
       "country              0\n",
       "dtype: int64"
      ]
     },
     "execution_count": 10,
     "metadata": {},
     "output_type": "execute_result"
    }
   ],
   "source": [
    "df1.isna().sum()"
   ]
  },
  {
   "attachments": {},
   "cell_type": "markdown",
   "metadata": {},
   "source": [
    "## 1.5. Replace NA"
   ]
  },
  {
   "cell_type": "code",
   "execution_count": 11,
   "metadata": {},
   "outputs": [],
   "source": [
    "df_missing = df1.loc[df1['customer_id'].isna(), :]\n",
    "df_not_missing = df1.loc[~df1['customer_id'].isna(), :]"
   ]
  },
  {
   "cell_type": "code",
   "execution_count": 12,
   "metadata": {},
   "outputs": [],
   "source": [
    "# create reference\n",
    "df_backup = pd.DataFrame(df_missing['invoice_no'].drop_duplicates())\n",
    "df_backup['customer_id'] = np.arange(19000, 19000 + len(df_backup), 1)\n",
    "\n",
    "# merge original df with reference df\n",
    "df1 = pd.merge(df1, df_backup, on = 'invoice_no', how = 'left')\n",
    "\n",
    "# coalesce -> combine_first()\n",
    "df1['customer_id'] = df1['customer_id_x'].combine_first(df1['customer_id_y'])\n",
    "\n",
    "# drop extra columns\n",
    "df1 = df1.drop(columns = ['customer_id_x', 'customer_id_y'], axis = 1)"
   ]
  },
  {
   "cell_type": "code",
   "execution_count": 13,
   "metadata": {},
   "outputs": [
    {
     "data": {
      "text/plain": [
       "invoice_no         0\n",
       "stock_code         0\n",
       "description     1454\n",
       "quantity           0\n",
       "invoice_date       0\n",
       "unit_price         0\n",
       "country            0\n",
       "customer_id        0\n",
       "dtype: int64"
      ]
     },
     "execution_count": 13,
     "metadata": {},
     "output_type": "execute_result"
    }
   ],
   "source": [
    "df1.isna().sum()"
   ]
  },
  {
   "attachments": {},
   "cell_type": "markdown",
   "metadata": {},
   "source": [
    "## 1.6. Change dtypes"
   ]
  },
  {
   "cell_type": "code",
   "execution_count": 14,
   "metadata": {},
   "outputs": [
    {
     "data": {
      "text/html": [
       "<div>\n",
       "<style scoped>\n",
       "    .dataframe tbody tr th:only-of-type {\n",
       "        vertical-align: middle;\n",
       "    }\n",
       "\n",
       "    .dataframe tbody tr th {\n",
       "        vertical-align: top;\n",
       "    }\n",
       "\n",
       "    .dataframe thead th {\n",
       "        text-align: right;\n",
       "    }\n",
       "</style>\n",
       "<table border=\"1\" class=\"dataframe\">\n",
       "  <thead>\n",
       "    <tr style=\"text-align: right;\">\n",
       "      <th></th>\n",
       "      <th>invoice_no</th>\n",
       "      <th>stock_code</th>\n",
       "      <th>description</th>\n",
       "      <th>quantity</th>\n",
       "      <th>invoice_date</th>\n",
       "      <th>unit_price</th>\n",
       "      <th>country</th>\n",
       "      <th>customer_id</th>\n",
       "    </tr>\n",
       "  </thead>\n",
       "  <tbody>\n",
       "    <tr>\n",
       "      <th>0</th>\n",
       "      <td>536365</td>\n",
       "      <td>85123A</td>\n",
       "      <td>WHITE HANGING HEART T-LIGHT HOLDER</td>\n",
       "      <td>6</td>\n",
       "      <td>2010-12-01</td>\n",
       "      <td>2.55</td>\n",
       "      <td>United Kingdom</td>\n",
       "      <td>17850</td>\n",
       "    </tr>\n",
       "    <tr>\n",
       "      <th>1</th>\n",
       "      <td>536365</td>\n",
       "      <td>71053</td>\n",
       "      <td>WHITE METAL LANTERN</td>\n",
       "      <td>6</td>\n",
       "      <td>2010-12-01</td>\n",
       "      <td>3.39</td>\n",
       "      <td>United Kingdom</td>\n",
       "      <td>17850</td>\n",
       "    </tr>\n",
       "    <tr>\n",
       "      <th>2</th>\n",
       "      <td>536365</td>\n",
       "      <td>84406B</td>\n",
       "      <td>CREAM CUPID HEARTS COAT HANGER</td>\n",
       "      <td>8</td>\n",
       "      <td>2010-12-01</td>\n",
       "      <td>2.75</td>\n",
       "      <td>United Kingdom</td>\n",
       "      <td>17850</td>\n",
       "    </tr>\n",
       "    <tr>\n",
       "      <th>3</th>\n",
       "      <td>536365</td>\n",
       "      <td>84029G</td>\n",
       "      <td>KNITTED UNION FLAG HOT WATER BOTTLE</td>\n",
       "      <td>6</td>\n",
       "      <td>2010-12-01</td>\n",
       "      <td>3.39</td>\n",
       "      <td>United Kingdom</td>\n",
       "      <td>17850</td>\n",
       "    </tr>\n",
       "    <tr>\n",
       "      <th>4</th>\n",
       "      <td>536365</td>\n",
       "      <td>84029E</td>\n",
       "      <td>RED WOOLLY HOTTIE WHITE HEART.</td>\n",
       "      <td>6</td>\n",
       "      <td>2010-12-01</td>\n",
       "      <td>3.39</td>\n",
       "      <td>United Kingdom</td>\n",
       "      <td>17850</td>\n",
       "    </tr>\n",
       "  </tbody>\n",
       "</table>\n",
       "</div>"
      ],
      "text/plain": [
       "  invoice_no stock_code                          description  quantity  \\\n",
       "0     536365     85123A   WHITE HANGING HEART T-LIGHT HOLDER         6   \n",
       "1     536365      71053                  WHITE METAL LANTERN         6   \n",
       "2     536365     84406B       CREAM CUPID HEARTS COAT HANGER         8   \n",
       "3     536365     84029G  KNITTED UNION FLAG HOT WATER BOTTLE         6   \n",
       "4     536365     84029E       RED WOOLLY HOTTIE WHITE HEART.         6   \n",
       "\n",
       "  invoice_date  unit_price         country  customer_id  \n",
       "0   2010-12-01        2.55  United Kingdom        17850  \n",
       "1   2010-12-01        3.39  United Kingdom        17850  \n",
       "2   2010-12-01        2.75  United Kingdom        17850  \n",
       "3   2010-12-01        3.39  United Kingdom        17850  \n",
       "4   2010-12-01        3.39  United Kingdom        17850  "
      ]
     },
     "execution_count": 14,
     "metadata": {},
     "output_type": "execute_result"
    }
   ],
   "source": [
    "# invoice date\n",
    "df1['invoice_date'] = pd.to_datetime(df1['invoice_date'], format='%m/%d/%Y %H:%M').dt.date\n",
    "df1['invoice_date'] = pd.to_datetime(df1['invoice_date'])\n",
    "\n",
    "# customer id\n",
    "df1['customer_id'] = df1['customer_id'].astype('int64')\n",
    "df1.head()"
   ]
  },
  {
   "cell_type": "code",
   "execution_count": 15,
   "metadata": {},
   "outputs": [
    {
     "data": {
      "text/plain": [
       "invoice_no              object\n",
       "stock_code              object\n",
       "description             object\n",
       "quantity                 int64\n",
       "invoice_date    datetime64[ns]\n",
       "unit_price             float64\n",
       "country                 object\n",
       "customer_id              int64\n",
       "dtype: object"
      ]
     },
     "execution_count": 15,
     "metadata": {},
     "output_type": "execute_result"
    }
   ],
   "source": [
    "df1.dtypes"
   ]
  },
  {
   "attachments": {},
   "cell_type": "markdown",
   "metadata": {},
   "source": [
    "## 1.7. Descriptive statistics"
   ]
  },
  {
   "cell_type": "code",
   "execution_count": 16,
   "metadata": {},
   "outputs": [],
   "source": [
    "num_attributes = df1.select_dtypes(include = ['int64', 'float64'])\n",
    "cat_attributes = df1.select_dtypes(exclude = ['int64', 'float64', 'datetime64[ns]'])"
   ]
  },
  {
   "attachments": {},
   "cell_type": "markdown",
   "metadata": {},
   "source": [
    "### 1.7.1. Numerical Attributes"
   ]
  },
  {
   "cell_type": "code",
   "execution_count": 17,
   "metadata": {},
   "outputs": [
    {
     "data": {
      "text/html": [
       "<div>\n",
       "<style scoped>\n",
       "    .dataframe tbody tr th:only-of-type {\n",
       "        vertical-align: middle;\n",
       "    }\n",
       "\n",
       "    .dataframe tbody tr th {\n",
       "        vertical-align: top;\n",
       "    }\n",
       "\n",
       "    .dataframe thead th {\n",
       "        text-align: right;\n",
       "    }\n",
       "</style>\n",
       "<table border=\"1\" class=\"dataframe\">\n",
       "  <thead>\n",
       "    <tr style=\"text-align: right;\">\n",
       "      <th></th>\n",
       "      <th>attributes</th>\n",
       "      <th>min</th>\n",
       "      <th>max</th>\n",
       "      <th>range</th>\n",
       "      <th>mean</th>\n",
       "      <th>median</th>\n",
       "      <th>std</th>\n",
       "      <th>skew</th>\n",
       "      <th>kurtosis</th>\n",
       "    </tr>\n",
       "  </thead>\n",
       "  <tbody>\n",
       "    <tr>\n",
       "      <th>0</th>\n",
       "      <td>quantity</td>\n",
       "      <td>-80995.00</td>\n",
       "      <td>80995.0</td>\n",
       "      <td>161990.00</td>\n",
       "      <td>9.552250</td>\n",
       "      <td>3.00</td>\n",
       "      <td>218.080957</td>\n",
       "      <td>-0.264076</td>\n",
       "      <td>119769.160031</td>\n",
       "    </tr>\n",
       "    <tr>\n",
       "      <th>1</th>\n",
       "      <td>unit_price</td>\n",
       "      <td>-11062.06</td>\n",
       "      <td>38970.0</td>\n",
       "      <td>50032.06</td>\n",
       "      <td>4.611114</td>\n",
       "      <td>2.08</td>\n",
       "      <td>96.759764</td>\n",
       "      <td>186.506972</td>\n",
       "      <td>59005.719097</td>\n",
       "    </tr>\n",
       "    <tr>\n",
       "      <th>2</th>\n",
       "      <td>customer_id</td>\n",
       "      <td>12346.00</td>\n",
       "      <td>22709.0</td>\n",
       "      <td>10363.00</td>\n",
       "      <td>16688.840453</td>\n",
       "      <td>16249.00</td>\n",
       "      <td>2911.408666</td>\n",
       "      <td>0.487449</td>\n",
       "      <td>-0.804287</td>\n",
       "    </tr>\n",
       "  </tbody>\n",
       "</table>\n",
       "</div>"
      ],
      "text/plain": [
       "    attributes       min      max      range          mean    median  \\\n",
       "0     quantity -80995.00  80995.0  161990.00      9.552250      3.00   \n",
       "1   unit_price -11062.06  38970.0   50032.06      4.611114      2.08   \n",
       "2  customer_id  12346.00  22709.0   10363.00  16688.840453  16249.00   \n",
       "\n",
       "           std        skew       kurtosis  \n",
       "0   218.080957   -0.264076  119769.160031  \n",
       "1    96.759764  186.506972   59005.719097  \n",
       "2  2911.408666    0.487449      -0.804287  "
      ]
     },
     "execution_count": 17,
     "metadata": {},
     "output_type": "execute_result"
    }
   ],
   "source": [
    "# central tendency - mean, median\n",
    "ct1 = pd.DataFrame(num_attributes.apply(np.mean)).T\n",
    "ct2 = pd.DataFrame(num_attributes.apply(np.median)).T\n",
    "\n",
    "# dispersion - standard deviation, min, max, range, skew and kurtosis\n",
    "d1 = pd.DataFrame(num_attributes.apply(np.std)).T\n",
    "d2 = pd.DataFrame(num_attributes.apply(np.min)).T\n",
    "d3 = pd.DataFrame(num_attributes.apply(np.max)).T\n",
    "d4 = pd.DataFrame(num_attributes.apply(lambda x: x.max() - x.min())).T\n",
    "d5 = pd.DataFrame(num_attributes.apply(lambda x: x.skew())).T\n",
    "d6 = pd.DataFrame(num_attributes.apply(lambda x: x.kurtosis())).T\n",
    "\n",
    "# concatenate\n",
    "m = pd.concat([d2, d3, d4, ct1, ct2, d1, d5, d6]).T.reset_index()\n",
    "m.columns = ['attributes', 'min', 'max', 'range', 'mean', 'median', 'std', 'skew', 'kurtosis']\n",
    "m"
   ]
  },
  {
   "attachments": {},
   "cell_type": "markdown",
   "metadata": {},
   "source": [
    "### 1.7.2. Categorical Attributes"
   ]
  },
  {
   "attachments": {},
   "cell_type": "markdown",
   "metadata": {},
   "source": [
    "#### Invoice No"
   ]
  },
  {
   "cell_type": "code",
   "execution_count": 18,
   "metadata": {},
   "outputs": [
    {
     "name": "stdout",
     "output_type": "stream",
     "text": [
      "Total number of invoices: 9291\n",
      "Total number of negative quantity: 9288\n"
     ]
    }
   ],
   "source": [
    "# invoices with letters and numbers\n",
    "# identification\n",
    "df_letter_invoices = df1.loc[df1['invoice_no'].apply(lambda x: bool(re.search('[^0-9]+', x))), :]\n",
    "df_letter_invoices.head()\n",
    "\n",
    "print('Total number of invoices: {}'.format(len(df_letter_invoices)))\n",
    "print('Total number of negative quantity: {}'.format(len(df_letter_invoices[df_letter_invoices['quantity'] < 0])))"
   ]
  },
  {
   "attachments": {},
   "cell_type": "markdown",
   "metadata": {},
   "source": [
    "#### Stock Code"
   ]
  },
  {
   "cell_type": "code",
   "execution_count": 19,
   "metadata": {},
   "outputs": [
    {
     "data": {
      "text/plain": [
       "array(['POST', 'D', 'DOT', 'M', 'S', 'AMAZONFEE', 'm', 'DCGSSBOY',\n",
       "       'DCGSSGIRL', 'PADS', 'B', 'CRUK'], dtype=object)"
      ]
     },
     "execution_count": 19,
     "metadata": {},
     "output_type": "execute_result"
    }
   ],
   "source": [
    "# check stock codes only characters\n",
    "df1.loc[df1['stock_code'].apply(lambda x: bool(re.search('^[a-zA-Z]+$', x))), 'stock_code'].unique()"
   ]
  },
  {
   "attachments": {},
   "cell_type": "markdown",
   "metadata": {},
   "source": [
    "#### Description"
   ]
  },
  {
   "cell_type": "code",
   "execution_count": 20,
   "metadata": {},
   "outputs": [
    {
     "data": {
      "text/html": [
       "<div>\n",
       "<style scoped>\n",
       "    .dataframe tbody tr th:only-of-type {\n",
       "        vertical-align: middle;\n",
       "    }\n",
       "\n",
       "    .dataframe tbody tr th {\n",
       "        vertical-align: top;\n",
       "    }\n",
       "\n",
       "    .dataframe thead th {\n",
       "        text-align: right;\n",
       "    }\n",
       "</style>\n",
       "<table border=\"1\" class=\"dataframe\">\n",
       "  <thead>\n",
       "    <tr style=\"text-align: right;\">\n",
       "      <th></th>\n",
       "      <th>invoice_no</th>\n",
       "      <th>stock_code</th>\n",
       "      <th>description</th>\n",
       "      <th>quantity</th>\n",
       "      <th>invoice_date</th>\n",
       "      <th>unit_price</th>\n",
       "      <th>country</th>\n",
       "      <th>customer_id</th>\n",
       "    </tr>\n",
       "  </thead>\n",
       "  <tbody>\n",
       "    <tr>\n",
       "      <th>0</th>\n",
       "      <td>536365</td>\n",
       "      <td>85123A</td>\n",
       "      <td>WHITE HANGING HEART T-LIGHT HOLDER</td>\n",
       "      <td>6</td>\n",
       "      <td>2010-12-01</td>\n",
       "      <td>2.55</td>\n",
       "      <td>United Kingdom</td>\n",
       "      <td>17850</td>\n",
       "    </tr>\n",
       "    <tr>\n",
       "      <th>1</th>\n",
       "      <td>536365</td>\n",
       "      <td>71053</td>\n",
       "      <td>WHITE METAL LANTERN</td>\n",
       "      <td>6</td>\n",
       "      <td>2010-12-01</td>\n",
       "      <td>3.39</td>\n",
       "      <td>United Kingdom</td>\n",
       "      <td>17850</td>\n",
       "    </tr>\n",
       "    <tr>\n",
       "      <th>2</th>\n",
       "      <td>536365</td>\n",
       "      <td>84406B</td>\n",
       "      <td>CREAM CUPID HEARTS COAT HANGER</td>\n",
       "      <td>8</td>\n",
       "      <td>2010-12-01</td>\n",
       "      <td>2.75</td>\n",
       "      <td>United Kingdom</td>\n",
       "      <td>17850</td>\n",
       "    </tr>\n",
       "    <tr>\n",
       "      <th>3</th>\n",
       "      <td>536365</td>\n",
       "      <td>84029G</td>\n",
       "      <td>KNITTED UNION FLAG HOT WATER BOTTLE</td>\n",
       "      <td>6</td>\n",
       "      <td>2010-12-01</td>\n",
       "      <td>3.39</td>\n",
       "      <td>United Kingdom</td>\n",
       "      <td>17850</td>\n",
       "    </tr>\n",
       "    <tr>\n",
       "      <th>4</th>\n",
       "      <td>536365</td>\n",
       "      <td>84029E</td>\n",
       "      <td>RED WOOLLY HOTTIE WHITE HEART.</td>\n",
       "      <td>6</td>\n",
       "      <td>2010-12-01</td>\n",
       "      <td>3.39</td>\n",
       "      <td>United Kingdom</td>\n",
       "      <td>17850</td>\n",
       "    </tr>\n",
       "  </tbody>\n",
       "</table>\n",
       "</div>"
      ],
      "text/plain": [
       "  invoice_no stock_code                          description  quantity  \\\n",
       "0     536365     85123A   WHITE HANGING HEART T-LIGHT HOLDER         6   \n",
       "1     536365      71053                  WHITE METAL LANTERN         6   \n",
       "2     536365     84406B       CREAM CUPID HEARTS COAT HANGER         8   \n",
       "3     536365     84029G  KNITTED UNION FLAG HOT WATER BOTTLE         6   \n",
       "4     536365     84029E       RED WOOLLY HOTTIE WHITE HEART.         6   \n",
       "\n",
       "  invoice_date  unit_price         country  customer_id  \n",
       "0   2010-12-01        2.55  United Kingdom        17850  \n",
       "1   2010-12-01        3.39  United Kingdom        17850  \n",
       "2   2010-12-01        2.75  United Kingdom        17850  \n",
       "3   2010-12-01        3.39  United Kingdom        17850  \n",
       "4   2010-12-01        3.39  United Kingdom        17850  "
      ]
     },
     "execution_count": 20,
     "metadata": {},
     "output_type": "execute_result"
    }
   ],
   "source": [
    "df1.head()"
   ]
  },
  {
   "attachments": {},
   "cell_type": "markdown",
   "metadata": {},
   "source": [
    "#### Country"
   ]
  },
  {
   "cell_type": "code",
   "execution_count": 21,
   "metadata": {},
   "outputs": [
    {
     "data": {
      "text/plain": [
       "array(['United Kingdom', 'France', 'Australia', 'Netherlands', 'Germany',\n",
       "       'Norway', 'EIRE', 'Switzerland', 'Spain', 'Poland', 'Portugal',\n",
       "       'Italy', 'Belgium', 'Lithuania', 'Japan', 'Iceland',\n",
       "       'Channel Islands', 'Denmark', 'Cyprus', 'Sweden', 'Austria',\n",
       "       'Israel', 'Finland', 'Bahrain', 'Greece', 'Hong Kong', 'Singapore',\n",
       "       'Lebanon', 'United Arab Emirates', 'Saudi Arabia',\n",
       "       'Czech Republic', 'Canada', 'Unspecified', 'Brazil', 'USA',\n",
       "       'European Community', 'Malta', 'RSA'], dtype=object)"
      ]
     },
     "execution_count": 21,
     "metadata": {},
     "output_type": "execute_result"
    }
   ],
   "source": [
    "df1['country'].unique()"
   ]
  },
  {
   "cell_type": "code",
   "execution_count": 22,
   "metadata": {},
   "outputs": [
    {
     "data": {
      "text/plain": [
       "United Kingdom    0.914320\n",
       "Germany           0.017521\n",
       "France            0.015790\n",
       "EIRE              0.015124\n",
       "Spain             0.004674\n",
       "Name: country, dtype: float64"
      ]
     },
     "execution_count": 22,
     "metadata": {},
     "output_type": "execute_result"
    }
   ],
   "source": [
    "df1['country'].value_counts(normalize = True).head()"
   ]
  },
  {
   "cell_type": "code",
   "execution_count": 23,
   "metadata": {},
   "outputs": [
    {
     "data": {
      "text/html": [
       "<div>\n",
       "<style scoped>\n",
       "    .dataframe tbody tr th:only-of-type {\n",
       "        vertical-align: middle;\n",
       "    }\n",
       "\n",
       "    .dataframe tbody tr th {\n",
       "        vertical-align: top;\n",
       "    }\n",
       "\n",
       "    .dataframe thead th {\n",
       "        text-align: right;\n",
       "    }\n",
       "</style>\n",
       "<table border=\"1\" class=\"dataframe\">\n",
       "  <thead>\n",
       "    <tr style=\"text-align: right;\">\n",
       "      <th></th>\n",
       "      <th>country</th>\n",
       "      <th>customer_id</th>\n",
       "    </tr>\n",
       "  </thead>\n",
       "  <tbody>\n",
       "    <tr>\n",
       "      <th>36</th>\n",
       "      <td>United Kingdom</td>\n",
       "      <td>7587</td>\n",
       "    </tr>\n",
       "    <tr>\n",
       "      <th>14</th>\n",
       "      <td>Germany</td>\n",
       "      <td>95</td>\n",
       "    </tr>\n",
       "    <tr>\n",
       "      <th>13</th>\n",
       "      <td>France</td>\n",
       "      <td>90</td>\n",
       "    </tr>\n",
       "    <tr>\n",
       "      <th>10</th>\n",
       "      <td>EIRE</td>\n",
       "      <td>44</td>\n",
       "    </tr>\n",
       "    <tr>\n",
       "      <th>31</th>\n",
       "      <td>Spain</td>\n",
       "      <td>31</td>\n",
       "    </tr>\n",
       "  </tbody>\n",
       "</table>\n",
       "</div>"
      ],
      "text/plain": [
       "           country  customer_id\n",
       "36  United Kingdom         7587\n",
       "14         Germany           95\n",
       "13          France           90\n",
       "10            EIRE           44\n",
       "31           Spain           31"
      ]
     },
     "execution_count": 23,
     "metadata": {},
     "output_type": "execute_result"
    }
   ],
   "source": [
    "df1[['customer_id', 'country']].drop_duplicates().groupby('country').count().reset_index().sort_values('customer_id', ascending = False).head()"
   ]
  },
  {
   "attachments": {},
   "cell_type": "markdown",
   "metadata": {},
   "source": [
    "# <font color = 'red'> 2.0. Data Filtering </font>"
   ]
  },
  {
   "cell_type": "code",
   "execution_count": 24,
   "metadata": {},
   "outputs": [],
   "source": [
    "df2 = df1.copy()"
   ]
  },
  {
   "cell_type": "code",
   "execution_count": 25,
   "metadata": {},
   "outputs": [
    {
     "data": {
      "text/plain": [
       "invoice_no              object\n",
       "stock_code              object\n",
       "description             object\n",
       "quantity                 int64\n",
       "invoice_date    datetime64[ns]\n",
       "unit_price             float64\n",
       "country                 object\n",
       "customer_id              int64\n",
       "dtype: object"
      ]
     },
     "execution_count": 25,
     "metadata": {},
     "output_type": "execute_result"
    }
   ],
   "source": [
    "df2.dtypes"
   ]
  },
  {
   "cell_type": "code",
   "execution_count": 26,
   "metadata": {},
   "outputs": [],
   "source": [
    "# numerical attributes\n",
    "df2 = df2.loc[df2['unit_price'] >= 0.04, :]\n",
    "\n",
    "# categorical attributes\n",
    "df2 = df2[~df2['stock_code'].isin(['POST', 'D', 'DOT', 'M', 'S', 'AMAZONFEE', 'm', 'DCGSSBOY', 'DCGSSGIRL', 'PADS', 'B', 'CRUK'])]\n",
    "\n",
    "# description\n",
    "df2 = df2.drop(columns='description', axis = 1)\n",
    "\n",
    "# map\n",
    "df2 = df2[~df2['country'].isin(['European Community', 'Unspecified'])]\n",
    "\n",
    "# bad users\n",
    "df2 = df2[~df2['customer_id'].isin([16446])]\n",
    "\n",
    "# quantity\n",
    "df2_returns = df2.loc[df1['quantity'] < 0, :]\n",
    "df2_purchases = df2.loc[df1['quantity'] >= 0, :]"
   ]
  },
  {
   "attachments": {},
   "cell_type": "markdown",
   "metadata": {},
   "source": [
    "# <font color = 'red'> 3.0. Feature Engineering </font>"
   ]
  },
  {
   "cell_type": "code",
   "execution_count": 27,
   "metadata": {},
   "outputs": [],
   "source": [
    "df3 = df2.copy()"
   ]
  },
  {
   "attachments": {},
   "cell_type": "markdown",
   "metadata": {},
   "source": [
    "## 3.1. Feature Creation"
   ]
  },
  {
   "cell_type": "code",
   "execution_count": 28,
   "metadata": {},
   "outputs": [],
   "source": [
    "# data reference\n",
    "df_ref = df3.drop(['invoice_no', 'stock_code', 'quantity', \n",
    "                'invoice_date', 'unit_price', 'country'], axis = 1).drop_duplicates(ignore_index = True)"
   ]
  },
  {
   "cell_type": "code",
   "execution_count": 29,
   "metadata": {},
   "outputs": [
    {
     "data": {
      "text/plain": [
       "(5786, 1)"
      ]
     },
     "execution_count": 29,
     "metadata": {},
     "output_type": "execute_result"
    }
   ],
   "source": [
    "df_ref.shape"
   ]
  },
  {
   "attachments": {},
   "cell_type": "markdown",
   "metadata": {},
   "source": [
    "### 3.1.1. Gross Revenue"
   ]
  },
  {
   "cell_type": "code",
   "execution_count": 30,
   "metadata": {},
   "outputs": [
    {
     "data": {
      "text/plain": [
       "customer_id       0\n",
       "gross_revenue    91\n",
       "dtype: int64"
      ]
     },
     "execution_count": 30,
     "metadata": {},
     "output_type": "execute_result"
    }
   ],
   "source": [
    "# Gross Revenue quantity * price\n",
    "df2_purchases = df2_purchases.copy()\n",
    "df2_purchases.loc[:, 'gross_revenue'] = df2_purchases.loc[:, 'quantity'] * df2_purchases.loc[:, 'unit_price']\n",
    "\n",
    "# Monetary\n",
    "df_monetary = df2_purchases.loc[:, ['customer_id', 'gross_revenue']].groupby('customer_id').sum().reset_index()\n",
    "df_ref = pd.merge(df_ref, df_monetary, on = 'customer_id', how = 'left')\n",
    "df_ref.isna().sum()"
   ]
  },
  {
   "attachments": {},
   "cell_type": "markdown",
   "metadata": {},
   "source": [
    "### 3.1.2. Recency - Days from Last Purchase"
   ]
  },
  {
   "cell_type": "code",
   "execution_count": 31,
   "metadata": {},
   "outputs": [
    {
     "data": {
      "text/plain": [
       "customer_id       0\n",
       "gross_revenue    91\n",
       "recency_days     91\n",
       "dtype: int64"
      ]
     },
     "execution_count": 31,
     "metadata": {},
     "output_type": "execute_result"
    }
   ],
   "source": [
    "# Recency - Last day purchase\n",
    "df_recency = df2_purchases.loc[:, ['customer_id', 'invoice_date']].groupby('customer_id').max().reset_index()\n",
    "df_recency['recency_days'] = (df2['invoice_date'].max() - df_recency['invoice_date']).dt.days\n",
    "df_recency = df_recency[['customer_id', 'recency_days']].copy()\n",
    "df_ref = pd.merge(df_ref, df_recency, on = 'customer_id', how = 'left' )\n",
    "df_ref.isna().sum()\n"
   ]
  },
  {
   "attachments": {},
   "cell_type": "markdown",
   "metadata": {},
   "source": [
    "### 3.1.3. Qty. Purchased"
   ]
  },
  {
   "cell_type": "code",
   "execution_count": 32,
   "metadata": {},
   "outputs": [
    {
     "data": {
      "text/plain": [
       "customer_id       0\n",
       "gross_revenue    91\n",
       "recency_days     91\n",
       "qty_invoices     91\n",
       "dtype: int64"
      ]
     },
     "execution_count": 32,
     "metadata": {},
     "output_type": "execute_result"
    }
   ],
   "source": [
    "# Frequência de compra\n",
    "df_freq = (df2_purchases.loc[:, ['customer_id', 'invoice_no']].drop_duplicates()\n",
    "        .groupby( 'customer_id' )\n",
    "        .count()\n",
    "        .reset_index()\n",
    "        .rename(columns = {'invoice_no': 'qty_invoices'}))\n",
    "df_ref = pd.merge(df_ref, df_freq, on = 'customer_id', how = 'left')\n",
    "df_ref.isna().sum()"
   ]
  },
  {
   "attachments": {},
   "cell_type": "markdown",
   "metadata": {},
   "source": [
    "### 3.1.4. Total Qty. Items Purchased"
   ]
  },
  {
   "cell_type": "code",
   "execution_count": 33,
   "metadata": {},
   "outputs": [
    {
     "data": {
      "text/plain": [
       "customer_id       0\n",
       "gross_revenue    91\n",
       "recency_days     91\n",
       "qty_invoices     91\n",
       "qty_items        91\n",
       "dtype: int64"
      ]
     },
     "execution_count": 33,
     "metadata": {},
     "output_type": "execute_result"
    }
   ],
   "source": [
    "df_freq = (df2_purchases.loc[:, ['customer_id', 'quantity']].groupby('customer_id').sum()\n",
    "                                                        .reset_index()\n",
    "                                                        .rename(columns={'quantity': 'qty_items'}))\n",
    "df_ref = pd.merge(df_ref, df_freq, on='customer_id', how='left')\n",
    "df_ref.isna().sum()"
   ]
  },
  {
   "attachments": {},
   "cell_type": "markdown",
   "metadata": {},
   "source": [
    "### 3.1.5. Qty. of Products Purchased"
   ]
  },
  {
   "cell_type": "code",
   "execution_count": 34,
   "metadata": {},
   "outputs": [
    {
     "data": {
      "text/plain": [
       "customer_id       0\n",
       "gross_revenue    91\n",
       "recency_days     91\n",
       "qty_invoices     91\n",
       "qty_items        91\n",
       "qty_products     91\n",
       "dtype: int64"
      ]
     },
     "execution_count": 34,
     "metadata": {},
     "output_type": "execute_result"
    }
   ],
   "source": [
    "df_freq = (df2_purchases.loc[:, ['customer_id', 'stock_code']].groupby('customer_id' ).count()\n",
    "                                                        .reset_index()\n",
    "                                                        .rename(columns={'stock_code': 'qty_products'}))\n",
    "df_ref = pd.merge(df_ref, df_freq, on='customer_id', how='left')\n",
    "df_ref.isna().sum()"
   ]
  },
  {
   "attachments": {},
   "cell_type": "markdown",
   "metadata": {},
   "source": [
    "### 3.1.6. Average Ticket Value"
   ]
  },
  {
   "cell_type": "code",
   "execution_count": 35,
   "metadata": {},
   "outputs": [
    {
     "data": {
      "text/plain": [
       "customer_id       0\n",
       "gross_revenue    91\n",
       "recency_days     91\n",
       "qty_invoices     91\n",
       "qty_items        91\n",
       "qty_products     91\n",
       "avg_ticket       91\n",
       "dtype: int64"
      ]
     },
     "execution_count": 35,
     "metadata": {},
     "output_type": "execute_result"
    }
   ],
   "source": [
    "# Average Ticket\n",
    "df_avg_ticket = (df2_purchases.loc[:, ['customer_id', 'gross_revenue']].groupby('customer_id')\n",
    "                .mean()\n",
    "                .reset_index()\n",
    "                .rename(columns = {'gross_revenue':'avg_ticket'}))\n",
    "df_ref = pd.merge(df_ref, df_avg_ticket, on = 'customer_id', how = 'left')\n",
    "df_ref.isna().sum()"
   ]
  },
  {
   "attachments": {},
   "cell_type": "markdown",
   "metadata": {},
   "source": [
    "### 3.1.7. Average Recency Days"
   ]
  },
  {
   "cell_type": "code",
   "execution_count": 36,
   "metadata": {},
   "outputs": [
    {
     "data": {
      "text/plain": [
       "customer_id            0\n",
       "gross_revenue         91\n",
       "recency_days          91\n",
       "qty_invoices          91\n",
       "qty_items             91\n",
       "qty_products          91\n",
       "avg_ticket            91\n",
       "avg_recency_days    2816\n",
       "dtype: int64"
      ]
     },
     "execution_count": 36,
     "metadata": {},
     "output_type": "execute_result"
    }
   ],
   "source": [
    "# Average recency days\n",
    "df_aux = df2[['customer_id', 'invoice_date']].drop_duplicates().sort_values(['customer_id', 'invoice_date'], ascending = [False, False])\n",
    "df_aux['next_customer_id'] = df_aux['customer_id'].shift() # next customer\n",
    "df_aux['previous_date'] = df_aux['invoice_date'].shift() # next invoince date\n",
    "\n",
    "df_aux['avg_recency_days'] = df_aux.apply(lambda x: (x['invoice_date'] - x['previous_date']).days if x['customer_id'] == x['next_customer_id'] else np.nan, axis=1)\n",
    "\n",
    "df_aux = df_aux.drop(['invoice_date', 'next_customer_id', 'previous_date'], axis=1).dropna()\n",
    "\n",
    "# average recency \n",
    "df_avg_recency_days = df_aux.groupby('customer_id').mean().reset_index()\n",
    "\n",
    "# merge\n",
    "df_ref = pd.merge(df_ref, df_avg_recency_days, on = 'customer_id', how = 'left')\n",
    "df_ref.isna().sum()"
   ]
  },
  {
   "attachments": {},
   "cell_type": "markdown",
   "metadata": {},
   "source": [
    "### 3.1.8. Frequency Purchases"
   ]
  },
  {
   "cell_type": "code",
   "execution_count": 37,
   "metadata": {},
   "outputs": [
    {
     "data": {
      "text/plain": [
       "customer_id            0\n",
       "gross_revenue         91\n",
       "recency_days          91\n",
       "qty_invoices          91\n",
       "qty_items             91\n",
       "qty_products          91\n",
       "avg_ticket            91\n",
       "avg_recency_days    2816\n",
       "frequency             91\n",
       "dtype: int64"
      ]
     },
     "execution_count": 37,
     "metadata": {},
     "output_type": "execute_result"
    }
   ],
   "source": [
    "df_aux = (df2_purchases[['customer_id', 'invoice_no', 'invoice_date']].drop_duplicates()\n",
    "                                                            .groupby( 'customer_id')\n",
    "                                                            .agg(max_ = ('invoice_date', 'max'), \n",
    "                                                                min_ = ('invoice_date', 'min'),\n",
    "                                                                days_= ('invoice_date', lambda x: ((x.max() - x.min()).days ) + 1),\n",
    "                                                                buy_ = ('invoice_no', 'count'))).reset_index()\n",
    "\n",
    "# Frequency\n",
    "df_aux['frequency'] = df_aux[['buy_', 'days_']].apply(lambda x: x['buy_'] / x['days_'] if  x['days_'] != 0 else 0, axis = 1)\n",
    "\n",
    "# Merge\n",
    "df_ref = pd.merge(df_ref, df_aux[['customer_id', 'frequency']], on = 'customer_id', how = 'left')\n",
    "df_ref.isna().sum()"
   ]
  },
  {
   "attachments": {},
   "cell_type": "markdown",
   "metadata": {},
   "source": [
    "### 3.1.9. Number of Returns"
   ]
  },
  {
   "cell_type": "code",
   "execution_count": 38,
   "metadata": {},
   "outputs": [
    {
     "data": {
      "text/plain": [
       "customer_id            0\n",
       "gross_revenue         91\n",
       "recency_days          91\n",
       "qty_invoices          91\n",
       "qty_items             91\n",
       "qty_products          91\n",
       "avg_ticket            91\n",
       "avg_recency_days    2816\n",
       "frequency             91\n",
       "qty_returns            0\n",
       "dtype: int64"
      ]
     },
     "execution_count": 38,
     "metadata": {},
     "output_type": "execute_result"
    }
   ],
   "source": [
    "# returns\n",
    "df_returns = df2_returns[['customer_id', 'quantity']].groupby('customer_id').sum().reset_index().rename(columns={'quantity':'qty_returns'})\n",
    "df_returns['qty_returns'] = df_returns['qty_returns'] * -1\n",
    "\n",
    "df_ref = pd.merge(df_ref, df_returns, how = 'left', on = 'customer_id')\n",
    "df_ref.loc[df_ref['qty_returns'].isna(), 'qty_returns'] = 0\n",
    "\n",
    "df_ref.isna().sum()"
   ]
  },
  {
   "attachments": {},
   "cell_type": "markdown",
   "metadata": {},
   "source": [
    "# <font color = 'red'> 4.0. EDA (Exploratory Data Analysis) </font>"
   ]
  },
  {
   "cell_type": "code",
   "execution_count": 39,
   "metadata": {},
   "outputs": [],
   "source": [
    "df4 = df_ref.dropna()"
   ]
  },
  {
   "attachments": {},
   "cell_type": "markdown",
   "metadata": {},
   "source": [
    "## 4.1. Estudo do Espaço"
   ]
  },
  {
   "cell_type": "code",
   "execution_count": 40,
   "metadata": {},
   "outputs": [],
   "source": [
    "# df43 = df4.drop(columns = ['customer_id'], axis = 1).copy()\n",
    "cols_selected = ['customer_id', 'gross_revenue', 'recency_days', \n",
    "                'qty_products', 'frequency', 'qty_returns']\n",
    "df43 = df4[cols_selected].copy()"
   ]
  },
  {
   "cell_type": "code",
   "execution_count": 45,
   "metadata": {},
   "outputs": [],
   "source": [
    "mm = pp.MinMaxScaler()\n",
    "\n",
    "# AWS_ACCESS_KEY_ID = os.environ.get('AWS_ACCESS_KEY_ID_INSIDERS')\n",
    "# AWS_SECRET_ACCESS_KEY = os.environ.get('AWS_SECRET_ACCESS_KEY_INSIDERS')\n",
    "\n",
    "fs = s3fs.S3FileSystem(anon=False, key=AWS_ACCESS_KEY_ID, secret=AWS_SECRET_ACCESS_KEY)\n",
    "df43['gross_revenue'] = mm.fit_transform(df43[['gross_revenue']])\n",
    "pickle.dump(mm, open('../src/features/gross_revenue_scaler.pkl', 'wb'))\n",
    "# pickle.dump(mm, fs.open('s3://insiders-pgdm/gross_revenue_scaler.pkl', 'wb'))\n",
    "\n",
    "df43['recency_days'] = mm.fit_transform(df43[['recency_days']])\n",
    "pickle.dump(mm, open('../src/features/recency_days_scaler.pkl', 'wb'))\n",
    "# pickle.dump(mm, fs.open('s3://insiders-pgdm/recency_days_scaler.pkl', 'wb'))\n",
    "\n",
    "df43['qty_products'] = mm.fit_transform(df43[['qty_products']])\n",
    "pickle.dump(mm, open('../src/features/qty_products_scaler.pkl', 'wb'))\n",
    "# pickle.dump(mm, fs.open('s3://insiders-pgdm/qty_products_scaler.pkl', 'wb'))\n",
    "\n",
    "df43['frequency'] = mm.fit_transform(df43[['frequency']])\n",
    "pickle.dump(mm, open('../src/features/frequency_scaler.pkl', 'wb'))\n",
    "# pickle.dump(mm, fs.open('s3://insiders-pgdm/frequency_scaler.pkl', 'wb'))\n",
    "\n",
    "df43['qty_returns'] = mm.fit_transform(df43[['qty_returns']])\n",
    "pickle.dump(mm, open('../src/features/qty_returns_scaler.pkl', 'wb'))\n",
    "# pickle.dump(mm, fs.open('s3://insiders-pgdm/qty_returns_scaler.pkl', 'wb'))\n",
    "\n",
    "X = df43.copy()"
   ]
  },
  {
   "attachments": {},
   "cell_type": "markdown",
   "metadata": {},
   "source": [
    "## 4.2. Tree-Based Embedding"
   ]
  },
  {
   "cell_type": "code",
   "execution_count": 47,
   "metadata": {},
   "outputs": [],
   "source": [
    "# training dataset\n",
    "X = df43.drop(columns = ['customer_id', 'gross_revenue'], axis = 1)\n",
    "y = df43['gross_revenue']\n",
    "\n",
    "# model definition\n",
    "rf_model = en.RandomForestRegressor(n_estimators = 100, random_state = 42)\n",
    "\n",
    "# model training\n",
    "rf_model.fit(X, y)\n",
    "pickle.dump(rf_model, open('../src/models/rf_model.pkl', 'wb'))\n",
    "# pickle.dump(rf_model, fs.open('s3://insiders-pgdm/qty_returns_scaler.pkl', 'wb'))\n",
    "\n",
    "# leaf\n",
    "df_leaf = pd.DataFrame(rf_model.apply(X))"
   ]
  },
  {
   "cell_type": "code",
   "execution_count": 48,
   "metadata": {},
   "outputs": [],
   "source": [
    "# Dimensionality reducer\n",
    "reducer = umap.UMAP(random_state = 42)\n",
    "embedding = reducer.fit_transform(df_leaf)\n",
    "\n",
    "pickle.dump(reducer, open('../src/features/umap_reducer.pkl', 'wb'))\n",
    "# pickle.dump(reducer, fs.open('s3://insiders-pgdm/umap_reducer.pkl', 'wb'))\n",
    "\n",
    "\n",
    "# embedding\n",
    "df_tree = pd.DataFrame()\n",
    "df_tree['embedding_x'] = embedding[:, 0]\n",
    "df_tree['embedding_y'] = embedding[:, 1]"
   ]
  },
  {
   "attachments": {},
   "cell_type": "markdown",
   "metadata": {},
   "source": [
    "# <font color = 'red'> 5.0. Hyperparameter Fine-Tunning </font>"
   ]
  },
  {
   "cell_type": "code",
   "execution_count": 49,
   "metadata": {},
   "outputs": [],
   "source": [
    "X = df_tree.copy()"
   ]
  },
  {
   "cell_type": "code",
   "execution_count": 50,
   "metadata": {},
   "outputs": [
    {
     "data": {
      "text/html": [
       "<div>\n",
       "<style scoped>\n",
       "    .dataframe tbody tr th:only-of-type {\n",
       "        vertical-align: middle;\n",
       "    }\n",
       "\n",
       "    .dataframe tbody tr th {\n",
       "        vertical-align: top;\n",
       "    }\n",
       "\n",
       "    .dataframe thead th {\n",
       "        text-align: right;\n",
       "    }\n",
       "</style>\n",
       "<table border=\"1\" class=\"dataframe\">\n",
       "  <thead>\n",
       "    <tr style=\"text-align: right;\">\n",
       "      <th></th>\n",
       "      <th>embedding_x</th>\n",
       "      <th>embedding_y</th>\n",
       "    </tr>\n",
       "  </thead>\n",
       "  <tbody>\n",
       "    <tr>\n",
       "      <th>0</th>\n",
       "      <td>10.918785</td>\n",
       "      <td>14.602229</td>\n",
       "    </tr>\n",
       "    <tr>\n",
       "      <th>1</th>\n",
       "      <td>19.531637</td>\n",
       "      <td>8.913908</td>\n",
       "    </tr>\n",
       "    <tr>\n",
       "      <th>2</th>\n",
       "      <td>11.945412</td>\n",
       "      <td>14.611155</td>\n",
       "    </tr>\n",
       "    <tr>\n",
       "      <th>3</th>\n",
       "      <td>0.142954</td>\n",
       "      <td>2.149642</td>\n",
       "    </tr>\n",
       "    <tr>\n",
       "      <th>4</th>\n",
       "      <td>-6.805303</td>\n",
       "      <td>9.022922</td>\n",
       "    </tr>\n",
       "  </tbody>\n",
       "</table>\n",
       "</div>"
      ],
      "text/plain": [
       "   embedding_x  embedding_y\n",
       "0    10.918785    14.602229\n",
       "1    19.531637     8.913908\n",
       "2    11.945412    14.611155\n",
       "3     0.142954     2.149642\n",
       "4    -6.805303     9.022922"
      ]
     },
     "execution_count": 50,
     "metadata": {},
     "output_type": "execute_result"
    }
   ],
   "source": [
    "X.head()"
   ]
  },
  {
   "attachments": {},
   "cell_type": "markdown",
   "metadata": {},
   "source": [
    "# <font color = 'red'> 6.0. Model Training </font>"
   ]
  },
  {
   "attachments": {},
   "cell_type": "markdown",
   "metadata": {},
   "source": [
    "## 6.1. Final Model"
   ]
  },
  {
   "cell_type": "code",
   "execution_count": 53,
   "metadata": {},
   "outputs": [],
   "source": [
    "clusters = np.arange(2, 25, 1)\n",
    "\n",
    "gmm_list = []\n",
    "for k in clusters:\n",
    "    # model definition\n",
    "    gmm_model = mx.GaussianMixture(n_components=k, random_state=42)\n",
    "\n",
    "    # model training\n",
    "    gmm_model.fit(X)\n",
    "\n",
    "    # model predict\n",
    "    labels = gmm_model.predict(X)\n",
    "\n",
    "    # model performance\n",
    "    sil = me.silhouette_score(X, labels, metric='euclidean')\n",
    "    gmm_list.append(sil)"
   ]
  },
  {
   "cell_type": "code",
   "execution_count": 54,
   "metadata": {},
   "outputs": [
    {
     "data": {
      "image/png": "[encoded data removed]",
      "text/plain": [
       "<Figure size 640x480 with 1 Axes>"
      ]
     },
     "metadata": {},
     "output_type": "display_data"
    }
   ],
   "source": [
    "plt.plot(clusters, gmm_list, linestyle='--', marker='o', color='b')\n",
    "plt.xlabel('k');\n",
    "plt.ylabel('Silhouette Score');\n",
    "plt.title('Sil x K');"
   ]
  },
  {
   "cell_type": "code",
   "execution_count": 57,
   "metadata": {},
   "outputs": [],
   "source": [
    "# model definition\n",
    "k = 10\n",
    "\n",
    "## model definition\n",
    "gmm_model = mx.GaussianMixture(n_components = k, n_init = 300, random_state = 32)\n",
    "\n",
    "# model training\n",
    "gmm_model.fit(X)\n",
    "\n",
    "# model predict\n",
    "labels = gmm_model.predict(X)"
   ]
  },
  {
   "attachments": {},
   "cell_type": "markdown",
   "metadata": {},
   "source": [
    "## 6.2. Cluster Validation"
   ]
  },
  {
   "cell_type": "code",
   "execution_count": 58,
   "metadata": {},
   "outputs": [
    {
     "name": "stdout",
     "output_type": "stream",
     "text": [
      "SS value: 0.6150678396224976\n"
     ]
    }
   ],
   "source": [
    "# # WSS (Within-Cluster Sum of Square)\n",
    "# print('WSS value: {}'.format(kmeans.inertia_))\n",
    "\n",
    "# SS (Silhouette Score)\n",
    "print('SS value: {}'.format(me.silhouette_score(X, labels, metric = 'euclidean')))"
   ]
  },
  {
   "attachments": {},
   "cell_type": "markdown",
   "metadata": {},
   "source": [
    "# <font color = 'red'> 7.0. Cluster Analysis </font>"
   ]
  },
  {
   "cell_type": "code",
   "execution_count": 59,
   "metadata": {},
   "outputs": [],
   "source": [
    "df72 = df4[cols_selected].copy()\n",
    "df72['cluster'] = labels\n",
    "\n",
    "# change dtypes\n",
    "df72['recency_days'] = df72['recency_days'].astype('int64')\n",
    "df72['qty_products'] = df72['qty_products'].astype('int64')\n",
    "df72['qty_returns'] = df72['qty_returns'].astype('int64')\n",
    "df72['last_training_timestamp'] = datetime.now().strftime( '%Y-%m-%d %H:%M:%S')"
   ]
  },
  {
   "cell_type": "code",
   "execution_count": 60,
   "metadata": {},
   "outputs": [
    {
     "data": {
      "text/html": [
       "<div>\n",
       "<style scoped>\n",
       "    .dataframe tbody tr th:only-of-type {\n",
       "        vertical-align: middle;\n",
       "    }\n",
       "\n",
       "    .dataframe tbody tr th {\n",
       "        vertical-align: top;\n",
       "    }\n",
       "\n",
       "    .dataframe thead th {\n",
       "        text-align: right;\n",
       "    }\n",
       "</style>\n",
       "<table border=\"1\" class=\"dataframe\">\n",
       "  <thead>\n",
       "    <tr style=\"text-align: right;\">\n",
       "      <th></th>\n",
       "      <th>customer_id</th>\n",
       "      <th>gross_revenue</th>\n",
       "      <th>recency_days</th>\n",
       "      <th>qty_products</th>\n",
       "      <th>frequency</th>\n",
       "      <th>qty_returns</th>\n",
       "      <th>cluster</th>\n",
       "      <th>last_training_timestamp</th>\n",
       "    </tr>\n",
       "  </thead>\n",
       "  <tbody>\n",
       "    <tr>\n",
       "      <th>0</th>\n",
       "      <td>17850</td>\n",
       "      <td>5391.21</td>\n",
       "      <td>372</td>\n",
       "      <td>297</td>\n",
       "      <td>17.000000</td>\n",
       "      <td>40</td>\n",
       "      <td>4</td>\n",
       "      <td>2023-04-12 14:41:42</td>\n",
       "    </tr>\n",
       "    <tr>\n",
       "      <th>1</th>\n",
       "      <td>13047</td>\n",
       "      <td>3232.59</td>\n",
       "      <td>56</td>\n",
       "      <td>171</td>\n",
       "      <td>0.028302</td>\n",
       "      <td>35</td>\n",
       "      <td>1</td>\n",
       "      <td>2023-04-12 14:41:42</td>\n",
       "    </tr>\n",
       "    <tr>\n",
       "      <th>2</th>\n",
       "      <td>12583</td>\n",
       "      <td>6705.38</td>\n",
       "      <td>2</td>\n",
       "      <td>232</td>\n",
       "      <td>0.040323</td>\n",
       "      <td>50</td>\n",
       "      <td>4</td>\n",
       "      <td>2023-04-12 14:41:42</td>\n",
       "    </tr>\n",
       "    <tr>\n",
       "      <th>3</th>\n",
       "      <td>13748</td>\n",
       "      <td>948.25</td>\n",
       "      <td>95</td>\n",
       "      <td>28</td>\n",
       "      <td>0.017921</td>\n",
       "      <td>0</td>\n",
       "      <td>0</td>\n",
       "      <td>2023-04-12 14:41:42</td>\n",
       "    </tr>\n",
       "    <tr>\n",
       "      <th>4</th>\n",
       "      <td>15100</td>\n",
       "      <td>876.00</td>\n",
       "      <td>333</td>\n",
       "      <td>3</td>\n",
       "      <td>0.073171</td>\n",
       "      <td>22</td>\n",
       "      <td>7</td>\n",
       "      <td>2023-04-12 14:41:42</td>\n",
       "    </tr>\n",
       "  </tbody>\n",
       "</table>\n",
       "</div>"
      ],
      "text/plain": [
       "   customer_id  gross_revenue  recency_days  qty_products  frequency  \\\n",
       "0        17850        5391.21           372           297  17.000000   \n",
       "1        13047        3232.59            56           171   0.028302   \n",
       "2        12583        6705.38             2           232   0.040323   \n",
       "3        13748         948.25            95            28   0.017921   \n",
       "4        15100         876.00           333             3   0.073171   \n",
       "\n",
       "   qty_returns  cluster last_training_timestamp  \n",
       "0           40        4     2023-04-12 14:41:42  \n",
       "1           35        1     2023-04-12 14:41:42  \n",
       "2           50        4     2023-04-12 14:41:42  \n",
       "3            0        0     2023-04-12 14:41:42  \n",
       "4           22        7     2023-04-12 14:41:42  "
      ]
     },
     "execution_count": 60,
     "metadata": {},
     "output_type": "execute_result"
    }
   ],
   "source": [
    "df72.head()"
   ]
  },
  {
   "cell_type": "code",
   "execution_count": 61,
   "metadata": {},
   "outputs": [
    {
     "data": {
      "text/html": [
       "<div>\n",
       "<style scoped>\n",
       "    .dataframe tbody tr th:only-of-type {\n",
       "        vertical-align: middle;\n",
       "    }\n",
       "\n",
       "    .dataframe tbody tr th {\n",
       "        vertical-align: top;\n",
       "    }\n",
       "\n",
       "    .dataframe thead th {\n",
       "        text-align: right;\n",
       "    }\n",
       "</style>\n",
       "<table border=\"1\" class=\"dataframe\">\n",
       "  <thead>\n",
       "    <tr style=\"text-align: right;\">\n",
       "      <th></th>\n",
       "      <th>cluster</th>\n",
       "      <th>customer_id</th>\n",
       "      <th>perc_customer</th>\n",
       "      <th>gross_revenue</th>\n",
       "      <th>recency_days</th>\n",
       "      <th>qty_products</th>\n",
       "      <th>frequency</th>\n",
       "      <th>qty_returns</th>\n",
       "    </tr>\n",
       "  </thead>\n",
       "  <tbody>\n",
       "    <tr>\n",
       "      <th>4</th>\n",
       "      <td>4</td>\n",
       "      <td>373</td>\n",
       "      <td>12.567385</td>\n",
       "      <td>10503.060483</td>\n",
       "      <td>19.268097</td>\n",
       "      <td>475.581769</td>\n",
       "      <td>0.110615</td>\n",
       "      <td>187.120643</td>\n",
       "    </tr>\n",
       "    <tr>\n",
       "      <th>1</th>\n",
       "      <td>1</td>\n",
       "      <td>501</td>\n",
       "      <td>16.880054</td>\n",
       "      <td>2624.627305</td>\n",
       "      <td>40.948104</td>\n",
       "      <td>141.542914</td>\n",
       "      <td>0.047552</td>\n",
       "      <td>20.940120</td>\n",
       "    </tr>\n",
       "    <tr>\n",
       "      <th>9</th>\n",
       "      <td>9</td>\n",
       "      <td>95</td>\n",
       "      <td>3.200809</td>\n",
       "      <td>2291.266000</td>\n",
       "      <td>29.957895</td>\n",
       "      <td>222.136842</td>\n",
       "      <td>0.031576</td>\n",
       "      <td>0.663158</td>\n",
       "    </tr>\n",
       "    <tr>\n",
       "      <th>6</th>\n",
       "      <td>6</td>\n",
       "      <td>349</td>\n",
       "      <td>11.758760</td>\n",
       "      <td>2216.344413</td>\n",
       "      <td>69.501433</td>\n",
       "      <td>52.896848</td>\n",
       "      <td>0.072810</td>\n",
       "      <td>11.028653</td>\n",
       "    </tr>\n",
       "    <tr>\n",
       "      <th>5</th>\n",
       "      <td>5</td>\n",
       "      <td>404</td>\n",
       "      <td>13.611860</td>\n",
       "      <td>1689.182401</td>\n",
       "      <td>54.801980</td>\n",
       "      <td>89.202970</td>\n",
       "      <td>0.050037</td>\n",
       "      <td>11.542079</td>\n",
       "    </tr>\n",
       "    <tr>\n",
       "      <th>8</th>\n",
       "      <td>8</td>\n",
       "      <td>107</td>\n",
       "      <td>3.605121</td>\n",
       "      <td>1448.545701</td>\n",
       "      <td>65.364486</td>\n",
       "      <td>66.878505</td>\n",
       "      <td>0.066564</td>\n",
       "      <td>33.186916</td>\n",
       "    </tr>\n",
       "    <tr>\n",
       "      <th>2</th>\n",
       "      <td>2</td>\n",
       "      <td>372</td>\n",
       "      <td>12.533693</td>\n",
       "      <td>1237.753145</td>\n",
       "      <td>61.282258</td>\n",
       "      <td>54.357527</td>\n",
       "      <td>0.043705</td>\n",
       "      <td>8.771505</td>\n",
       "    </tr>\n",
       "    <tr>\n",
       "      <th>0</th>\n",
       "      <td>0</td>\n",
       "      <td>175</td>\n",
       "      <td>5.896226</td>\n",
       "      <td>827.478286</td>\n",
       "      <td>92.022857</td>\n",
       "      <td>26.822857</td>\n",
       "      <td>0.161952</td>\n",
       "      <td>22.868571</td>\n",
       "    </tr>\n",
       "    <tr>\n",
       "      <th>3</th>\n",
       "      <td>3</td>\n",
       "      <td>200</td>\n",
       "      <td>6.738544</td>\n",
       "      <td>647.933500</td>\n",
       "      <td>47.280000</td>\n",
       "      <td>11.510000</td>\n",
       "      <td>0.025991</td>\n",
       "      <td>0.845000</td>\n",
       "    </tr>\n",
       "    <tr>\n",
       "      <th>7</th>\n",
       "      <td>7</td>\n",
       "      <td>392</td>\n",
       "      <td>13.207547</td>\n",
       "      <td>505.728827</td>\n",
       "      <td>149.426020</td>\n",
       "      <td>15.522959</td>\n",
       "      <td>0.426596</td>\n",
       "      <td>9.443878</td>\n",
       "    </tr>\n",
       "  </tbody>\n",
       "</table>\n",
       "</div>"
      ],
      "text/plain": [
       "   cluster  customer_id  perc_customer  gross_revenue  recency_days  \\\n",
       "4        4          373      12.567385   10503.060483     19.268097   \n",
       "1        1          501      16.880054    2624.627305     40.948104   \n",
       "9        9           95       3.200809    2291.266000     29.957895   \n",
       "6        6          349      11.758760    2216.344413     69.501433   \n",
       "5        5          404      13.611860    1689.182401     54.801980   \n",
       "8        8          107       3.605121    1448.545701     65.364486   \n",
       "2        2          372      12.533693    1237.753145     61.282258   \n",
       "0        0          175       5.896226     827.478286     92.022857   \n",
       "3        3          200       6.738544     647.933500     47.280000   \n",
       "7        7          392      13.207547     505.728827    149.426020   \n",
       "\n",
       "   qty_products  frequency  qty_returns  \n",
       "4    475.581769   0.110615   187.120643  \n",
       "1    141.542914   0.047552    20.940120  \n",
       "9    222.136842   0.031576     0.663158  \n",
       "6     52.896848   0.072810    11.028653  \n",
       "5     89.202970   0.050037    11.542079  \n",
       "8     66.878505   0.066564    33.186916  \n",
       "2     54.357527   0.043705     8.771505  \n",
       "0     26.822857   0.161952    22.868571  \n",
       "3     11.510000   0.025991     0.845000  \n",
       "7     15.522959   0.426596     9.443878  "
      ]
     },
     "execution_count": 61,
     "metadata": {},
     "output_type": "execute_result"
    }
   ],
   "source": [
    "# Number of customer\n",
    "df_cluster = df72[['customer_id', 'cluster']].groupby( 'cluster' ).count().reset_index()\n",
    "df_cluster['perc_customer'] = 100*(df_cluster['customer_id'] / df_cluster['customer_id'].sum())\n",
    "\n",
    "# Avg Gross revenue\n",
    "df_avg_gross_revenue = df72[['gross_revenue', 'cluster']].groupby( 'cluster' ).mean().reset_index()\n",
    "df_cluster = pd.merge(df_cluster, df_avg_gross_revenue, how='inner', on='cluster')\n",
    "\n",
    "# Avg recency days\n",
    "df_avg_recency_days = df72[['recency_days', 'cluster']].groupby( 'cluster' ).mean().reset_index()\n",
    "df_cluster = pd.merge(df_cluster, df_avg_recency_days, how='inner', on='cluster')\n",
    "\n",
    "# Avg invoice_no\n",
    "df_qty_products = df72[['qty_products', 'cluster']].groupby( 'cluster' ).mean().reset_index()\n",
    "df_cluster = pd.merge(df_cluster, df_qty_products, how='inner', on='cluster')\n",
    "\n",
    "# Frequency\n",
    "df_frequency = df72[['frequency', 'cluster']].groupby( 'cluster' ).mean().reset_index()\n",
    "df_cluster = pd.merge(df_cluster, df_frequency, how='inner', on='cluster')\n",
    "\n",
    "# Returns\n",
    "df_qty_returns = df72[['qty_returns', 'cluster']].groupby('cluster').mean().reset_index()\n",
    "df_cluster = pd.merge(df_cluster, df_qty_returns, how='inner', on='cluster')\n",
    "\n",
    "df_cluster.sort_values( 'gross_revenue', ascending=False )"
   ]
  },
  {
   "cell_type": "code",
   "execution_count": 48,
   "metadata": {},
   "outputs": [],
   "source": [
    "# ================ REPENSAR ESSAS CATEGORIAS ============== #\n",
    "# 4 Cluster Insiders\n",
    "# 1 Cluster More Products\n",
    "# 9 Cluster Spend Money \n",
    "# 6 Cluster Even More Products\n",
    "# 5 Cluster Less Days\n",
    "# 8 Cluster Less 1k\n",
    "# 2 Cluster Stop Returners\n",
    "# 0 Cluster More Buy\n",
    "# 3 Nenhum\n",
    "# 7 Nenhum"
   ]
  },
  {
   "attachments": {},
   "cell_type": "markdown",
   "metadata": {},
   "source": [
    "# <font color = 'red'> 8.0. Deploy to Production </font>"
   ]
  },
  {
   "cell_type": "code",
   "execution_count": 99,
   "metadata": {},
   "outputs": [
    {
     "data": {
      "text/plain": [
       "customer_id                  int64\n",
       "gross_revenue              float64\n",
       "recency_days                 int64\n",
       "qty_products                 int64\n",
       "frequency                  float64\n",
       "qty_returns                  int64\n",
       "cluster                      int64\n",
       "last_training_timestamp     object\n",
       "dtype: object"
      ]
     },
     "execution_count": 99,
     "metadata": {},
     "output_type": "execute_result"
    }
   ],
   "source": [
    "df72.dtypes"
   ]
  },
  {
   "attachments": {},
   "cell_type": "markdown",
   "metadata": {},
   "source": [
    "## 8.1 Insert into SQLite"
   ]
  },
  {
   "cell_type": "code",
   "execution_count": 100,
   "metadata": {},
   "outputs": [],
   "source": [
    "df72['recency_days'] = df72['recency_days'].astype('int64')\n",
    "df72['qty_products'] = df72['qty_products'].astype('int64')\n",
    "df72['qty_returns'] = df72['qty_returns'].astype('int64')"
   ]
  },
  {
   "cell_type": "code",
   "execution_count": 101,
   "metadata": {},
   "outputs": [],
   "source": [
    "host = 'sqlite:///insiders_db.sqlite'\n",
    "conn = create_engine(host)"
   ]
  },
  {
   "cell_type": "code",
   "execution_count": 102,
   "metadata": {},
   "outputs": [
    {
     "data": {
      "text/plain": [
       "2968"
      ]
     },
     "execution_count": 102,
     "metadata": {},
     "output_type": "execute_result"
    }
   ],
   "source": [
    "# drop table\n",
    "query_drop_insiders = \"\"\"\n",
    "    DROP TABLE insiders\n",
    "\"\"\"\n",
    "\n",
    "\n",
    "# create table\n",
    "query_create_table_insiders = \"\"\"\n",
    "    CREATE TABLE insiders (\n",
    "        customer_id INTEGER,\n",
    "        gross_revenue REAL,\n",
    "        recency_days INTEGER,\n",
    "        qty_products INTEGER,\n",
    "        frequency REAL,\n",
    "        qty_returns REAL,\n",
    "        cluster INTEGER,\n",
    "        last_training_timestamp TIMESTAMP\n",
    "    )\n",
    "\"\"\"\n",
    "conn = sqlite3.connect('insiders_db.sqlite')\n",
    "conn.execute(query_drop_insiders)\n",
    "conn.execute(query_create_table_insiders)\n",
    "conn.commit()\n",
    "\n",
    "# insert data into table\n",
    "df72.to_sql('insiders', con = conn, if_exists = 'append', index = False)"
   ]
  },
  {
   "cell_type": "code",
   "execution_count": 103,
   "metadata": {},
   "outputs": [],
   "source": [
    "# select data\n",
    "query = \"\"\"\n",
    "    SELECT * FROM insiders\n",
    "\"\"\"\n",
    "df = pd.read_sql_query(query, conn)"
   ]
  },
  {
   "cell_type": "code",
   "execution_count": 104,
   "metadata": {},
   "outputs": [],
   "source": [
    "conn.close()"
   ]
  },
  {
   "cell_type": "code",
   "execution_count": 105,
   "metadata": {},
   "outputs": [
    {
     "data": {
      "text/html": [
       "<div>\n",
       "<style scoped>\n",
       "    .dataframe tbody tr th:only-of-type {\n",
       "        vertical-align: middle;\n",
       "    }\n",
       "\n",
       "    .dataframe tbody tr th {\n",
       "        vertical-align: top;\n",
       "    }\n",
       "\n",
       "    .dataframe thead th {\n",
       "        text-align: right;\n",
       "    }\n",
       "</style>\n",
       "<table border=\"1\" class=\"dataframe\">\n",
       "  <thead>\n",
       "    <tr style=\"text-align: right;\">\n",
       "      <th></th>\n",
       "      <th>customer_id</th>\n",
       "      <th>gross_revenue</th>\n",
       "      <th>recency_days</th>\n",
       "      <th>qty_products</th>\n",
       "      <th>frequency</th>\n",
       "      <th>qty_returns</th>\n",
       "      <th>cluster</th>\n",
       "      <th>last_training_timestamp</th>\n",
       "    </tr>\n",
       "  </thead>\n",
       "  <tbody>\n",
       "    <tr>\n",
       "      <th>0</th>\n",
       "      <td>17850</td>\n",
       "      <td>5391.21</td>\n",
       "      <td>372</td>\n",
       "      <td>297</td>\n",
       "      <td>17.000000</td>\n",
       "      <td>40.0</td>\n",
       "      <td>4</td>\n",
       "      <td>2023-04-12 14:41:42</td>\n",
       "    </tr>\n",
       "    <tr>\n",
       "      <th>1</th>\n",
       "      <td>13047</td>\n",
       "      <td>3232.59</td>\n",
       "      <td>56</td>\n",
       "      <td>171</td>\n",
       "      <td>0.028302</td>\n",
       "      <td>35.0</td>\n",
       "      <td>1</td>\n",
       "      <td>2023-04-12 14:41:42</td>\n",
       "    </tr>\n",
       "    <tr>\n",
       "      <th>2</th>\n",
       "      <td>12583</td>\n",
       "      <td>6705.38</td>\n",
       "      <td>2</td>\n",
       "      <td>232</td>\n",
       "      <td>0.040323</td>\n",
       "      <td>50.0</td>\n",
       "      <td>4</td>\n",
       "      <td>2023-04-12 14:41:42</td>\n",
       "    </tr>\n",
       "    <tr>\n",
       "      <th>3</th>\n",
       "      <td>13748</td>\n",
       "      <td>948.25</td>\n",
       "      <td>95</td>\n",
       "      <td>28</td>\n",
       "      <td>0.017921</td>\n",
       "      <td>0.0</td>\n",
       "      <td>0</td>\n",
       "      <td>2023-04-12 14:41:42</td>\n",
       "    </tr>\n",
       "    <tr>\n",
       "      <th>4</th>\n",
       "      <td>15100</td>\n",
       "      <td>876.00</td>\n",
       "      <td>333</td>\n",
       "      <td>3</td>\n",
       "      <td>0.073171</td>\n",
       "      <td>22.0</td>\n",
       "      <td>7</td>\n",
       "      <td>2023-04-12 14:41:42</td>\n",
       "    </tr>\n",
       "  </tbody>\n",
       "</table>\n",
       "</div>"
      ],
      "text/plain": [
       "   customer_id  gross_revenue  recency_days  qty_products  frequency  \\\n",
       "0        17850        5391.21           372           297  17.000000   \n",
       "1        13047        3232.59            56           171   0.028302   \n",
       "2        12583        6705.38             2           232   0.040323   \n",
       "3        13748         948.25            95            28   0.017921   \n",
       "4        15100         876.00           333             3   0.073171   \n",
       "\n",
       "   qty_returns  cluster last_training_timestamp  \n",
       "0         40.0        4     2023-04-12 14:41:42  \n",
       "1         35.0        1     2023-04-12 14:41:42  \n",
       "2         50.0        4     2023-04-12 14:41:42  \n",
       "3          0.0        0     2023-04-12 14:41:42  \n",
       "4         22.0        7     2023-04-12 14:41:42  "
      ]
     },
     "execution_count": 105,
     "metadata": {},
     "output_type": "execute_result"
    }
   ],
   "source": [
    "df.head()"
   ]
  },
  {
   "cell_type": "code",
   "execution_count": 106,
   "metadata": {},
   "outputs": [
    {
     "data": {
      "text/plain": [
       "(2968, 8)"
      ]
     },
     "execution_count": 106,
     "metadata": {},
     "output_type": "execute_result"
    }
   ],
   "source": [
    "df.shape"
   ]
  }
 ],
 "metadata": {
  "kernelspec": {
   "display_name": "insiders",
   "language": "python",
   "name": "python3"
  },
  "language_info": {
   "codemirror_mode": {
    "name": "ipython",
    "version": 3
   },
   "file_extension": ".py",
   "mimetype": "text/x-python",
   "name": "python",
   "nbconvert_exporter": "python",
   "pygments_lexer": "ipython3",
   "version": "3.10.10"
  },
  "orig_nbformat": 4,
  "vscode": {
   "interpreter": {
    "hash": "46cacd356c55e68c96408fdbe5fb06ec6a63303bc5bf79a3d5da1cc7bc2a6e9b"
   }
  }
 },
 "nbformat": 4,
 "nbformat_minor": 2
}
