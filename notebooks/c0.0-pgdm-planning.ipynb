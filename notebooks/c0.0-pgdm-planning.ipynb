{
 "cells": [
  {
   "attachments": {},
   "cell_type": "markdown",
   "metadata": {},
   "source": [
    "# PA005: High Value Customer Identification(Insiders)"
   ]
  },
  {
   "attachments": {},
   "cell_type": "markdown",
   "metadata": {},
   "source": [
    "## 0.0. Planejamento da Solução (IOT)"
   ]
  },
  {
   "attachments": {},
   "cell_type": "markdown",
   "metadata": {},
   "source": [
    "## Input - Entrada"
   ]
  },
  {
   "attachments": {},
   "cell_type": "markdown",
   "metadata": {},
   "source": [
    "1. Problema de Negócio\n",
    "    - Selecionar os clientes mais caliosos para integrar um programa de Fidelização.\n",
    "2. Conjunto de Dados\n",
    "    - Vendas de um e-commerce online, durante o período de um ano."
   ]
  },
  {
   "attachments": {},
   "cell_type": "markdown",
   "metadata": {},
   "source": [
    "## Output - Saída"
   ]
  },
  {
   "attachments": {},
   "cell_type": "markdown",
   "metadata": {},
   "source": [
    "1. A indicação das pessoas que farão parte do programa de Insiders\n",
    "    - Lista: client_id | is_insider |\n",
    "    \n",
    "            10323 | yes/1\n",
    "            32413 | no/1\n",
    "\n",
    "\n",
    "2. Relatório com as respostas das perguntas de negócio\n",
    "    - Quem são as pessoas elegíveis para participar do programa de Insiders?\n",
    "    - Quantos clientes farão parte do grupo?\n",
    "    - Quais as principais características desses clientes?\n",
    "    - Qual a porcentagem de contribuição do faturamento, vinda do Insiders?\n",
    "    - Qual a expectativa de faturamento desse grupo para os próximos meses?\n",
    "    - Quais as condições para uma pessoa ser elegível ao Insiders?\n",
    "    - Quais as condições para uma pessoa ser removida do Insiders?\n",
    "    - Qual a garantia que o programa Insiders é o melhor que o restante da base?\n",
    "    - Quais ações o time de marketing pode realizar para aumentar o faturamento?"
   ]
  },
  {
   "attachments": {},
   "cell_type": "markdown",
   "metadata": {},
   "source": [
    "## Tasks - Tarefas"
   ]
  },
  {
   "attachments": {},
   "cell_type": "markdown",
   "metadata": {},
   "source": [
    "1. Quem são as pessoas elegíveis para participar do programa de Insiders?\n",
    "    - O que é ser elegível? O que são clientes de maior \"valor\"?\n",
    "    - Faturamento:\n",
    "        - Alto Ticket médio (média dos preços).\n",
    "        - Alto LTV (life time value).\n",
    "        - Baixo recência.\n",
    "        - Alto basket size.\n",
    "        - Baixa probabilidade de Churn.\n",
    "        - Alta previsão de LTV.\n",
    "        - Alta propensão de compra.\n",
    "\n",
    "    - Custo:\n",
    "        - Baixa taxa de devolução.\n",
    "\n",
    "    - Experiência de compra:\n",
    "        - Média alta das avaliações.\n",
    "\n",
    "2. Quantos clientes farão parte do grupo?\n",
    "    - Número total de clientes.\n",
    "    - % do grupo Insiders.\n",
    "\n",
    "3. Quais as principais características desses clientes?\n",
    "    - Escrever características do cliente:\n",
    "        - Idade.\n",
    "        - Localização.\n",
    "\n",
    "    - Escrever características do consumo.\n",
    "        Atributos da clusterização.\n",
    "\n",
    "4. Qual a porcentagem de contribuição do faturamento, vinda do Insiders?\n",
    "    - Faturamento total do ano.\n",
    "    - Faturamento do grupo.\n",
    "\n",
    "5. Qual a expectativa de faturamento desse grupo para os próximos meses?\n",
    "    - LTV do grupo Insiders.\n",
    "    - Análise de Cohort.\n",
    "\n",
    "6. Quais as condições para uma pessoa ser elegível ao Insiders?\n",
    "    - Definir a periodicidade(1 mes, 3 meses)\n",
    "    - A pessoa precisa ser similar ou parecida com uma pessoa do grupo.\n",
    "\n",
    "7. Quais as condições para uma pessoa ser removida do Insiders?\n",
    "    - Definir a periodicidade(1 mes, 3 meses)\n",
    "    - A pessoa precisa ser dessimilar ou não-parecida com uma pessoa do grupo.\n",
    "\n",
    "8. Qual a garantia que o programa Insiders é o melhor que o restante da base?\n",
    "    - Teste A/B\n",
    "    - Teste A/B Bayesiano\n",
    "    - Teste de Hipóteses\n",
    "\n",
    "9. Quais ações o time de marketing pode realizar para aumentar o faturamento?\n",
    "    - Desconto\n",
    "    - Preferência de Compra\n",
    "    - Frente\n",
    "    = Visita a Empresa"
   ]
  },
  {
   "attachments": {},
   "cell_type": "markdown",
   "metadata": {},
   "source": [
    "## Benchmark de Soluções"
   ]
  },
  {
   "attachments": {},
   "cell_type": "markdown",
   "metadata": {},
   "source": [
    "### 1. Desk Research"
   ]
  },
  {
   "attachments": {},
   "cell_type": "markdown",
   "metadata": {},
   "source": [
    "- RFM Model"
   ]
  },
  {
   "cell_type": "markdown",
   "metadata": {},
   "source": []
  }
 ],
 "metadata": {
  "kernelspec": {
   "display_name": "insiders",
   "language": "python",
   "name": "python3"
  },
  "language_info": {
   "codemirror_mode": {
    "name": "ipython",
    "version": 3
   },
   "file_extension": ".py",
   "mimetype": "text/x-python",
   "name": "python",
   "nbconvert_exporter": "python",
   "pygments_lexer": "ipython3",
   "version": "3.10.9"
  },
  "orig_nbformat": 4,
  "vscode": {
   "interpreter": {
    "hash": "46cacd356c55e68c96408fdbe5fb06ec6a63303bc5bf79a3d5da1cc7bc2a6e9b"
   }
  }
 },
 "nbformat": 4,
 "nbformat_minor": 2
}
